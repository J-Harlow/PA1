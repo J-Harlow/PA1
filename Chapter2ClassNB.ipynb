{
 "cells": [
  {
   "cell_type": "markdown",
   "id": "81b2bbc8",
   "metadata": {
    "slideshow": {
     "slide_type": "slide"
    }
   },
   "source": [
    "# Chapter 2: Variables and and Simple Data Types\n",
    "* A variable name is an **identifier**. \n",
    "* May consist of letters, digits and underscores (`_`) but may not begin with a digit. \n",
    "* Python is _case sensitive_. \n",
    "* Each value in Python has a type that indicates the kind of data the value represents. "
   ]
  },
  {
   "cell_type": "markdown",
   "id": "9f73fa21",
   "metadata": {
    "slideshow": {
     "slide_type": "slide"
    }
   },
   "source": [
    "####  Statement creates `x` and uses the **assignment symbol (`=`)** to give `x` a value. "
   ]
  },
  {
   "cell_type": "code",
   "execution_count": 1,
   "id": "92846dd3",
   "metadata": {},
   "outputs": [
    {
     "name": "stdout",
     "output_type": "stream",
     "text": [
      "Hello World\n"
     ]
    }
   ],
   "source": [
    "x_0= \"Hello World\"\n",
    "print(x_0)"
   ]
  },
  {
   "cell_type": "code",
   "execution_count": 4,
   "id": "3e0cd432",
   "metadata": {},
   "outputs": [
    {
     "name": "stdout",
     "output_type": "stream",
     "text": [
      "Welcome to the python programming language\n"
     ]
    }
   ],
   "source": [
    "_x0=\"Welcome to the python programming language\"\n",
    "print(_x0)"
   ]
  },
  {
   "cell_type": "code",
   "execution_count": 5,
   "id": "4b1c1e34",
   "metadata": {},
   "outputs": [
    {
     "ename": "SyntaxError",
     "evalue": "invalid decimal literal (802510474.py, line 1)",
     "output_type": "error",
     "traceback": [
      "\u001b[1;36m  Cell \u001b[1;32mIn[5], line 1\u001b[1;36m\u001b[0m\n\u001b[1;33m    0_x=\"Python\"\u001b[0m\n\u001b[1;37m     ^\u001b[0m\n\u001b[1;31mSyntaxError\u001b[0m\u001b[1;31m:\u001b[0m invalid decimal literal\n"
     ]
    }
   ],
   "source": [
    "0_x=\"Python\"\n",
    "# A variable name can not start with digit"
   ]
  },
  {
   "cell_type": "markdown",
   "id": "87338e34",
   "metadata": {},
   "source": [
    "### Print a message"
   ]
  },
  {
   "cell_type": "code",
   "execution_count": null,
   "id": "3bace5f9",
   "metadata": {},
   "outputs": [],
   "source": []
  },
  {
   "cell_type": "code",
   "execution_count": null,
   "id": "a991a1a0",
   "metadata": {},
   "outputs": [],
   "source": []
  },
  {
   "cell_type": "markdown",
   "id": "89fec02b",
   "metadata": {},
   "source": [
    "### Try to print a Simple Message: Store a message in a variable, and then print that message."
   ]
  },
  {
   "cell_type": "code",
   "execution_count": 10,
   "id": "4bf85453",
   "metadata": {},
   "outputs": [
    {
     "name": "stdout",
     "output_type": "stream",
     "text": [
      "Simple Message\n"
     ]
    }
   ],
   "source": [
    "message=\"Simple Message\"\n",
    "print(message)"
   ]
  },
  {
   "cell_type": "code",
   "execution_count": null,
   "id": "55bdd6b2",
   "metadata": {},
   "outputs": [],
   "source": []
  },
  {
   "cell_type": "code",
   "execution_count": null,
   "id": "5698773f",
   "metadata": {},
   "outputs": [],
   "source": []
  },
  {
   "cell_type": "markdown",
   "id": "5f8394d9",
   "metadata": {},
   "source": [
    "# Strings"
   ]
  },
  {
   "cell_type": "markdown",
   "id": "be203204",
   "metadata": {},
   "source": [
    "## A string is simply a series of characters. Anything inside quotes is considered a string in Python, and you can use `single` or `double quotes` around your strings\n",
    "### \"This is a string.\"\n",
    "### 'This is also a string.'"
   ]
  },
  {
   "cell_type": "markdown",
   "id": "adae7f7c",
   "metadata": {},
   "source": [
    "###  Build in String methods\n",
    "Directory: dir('  ')"
   ]
  },
  {
   "cell_type": "code",
   "execution_count": null,
   "id": "f6103d72",
   "metadata": {},
   "outputs": [],
   "source": []
  },
  {
   "cell_type": "code",
   "execution_count": 1,
   "id": "972ece85",
   "metadata": {},
   "outputs": [
    {
     "data": {
      "text/plain": [
       "['__add__',\n",
       " '__class__',\n",
       " '__contains__',\n",
       " '__delattr__',\n",
       " '__dir__',\n",
       " '__doc__',\n",
       " '__eq__',\n",
       " '__format__',\n",
       " '__ge__',\n",
       " '__getattribute__',\n",
       " '__getitem__',\n",
       " '__getnewargs__',\n",
       " '__gt__',\n",
       " '__hash__',\n",
       " '__init__',\n",
       " '__init_subclass__',\n",
       " '__iter__',\n",
       " '__le__',\n",
       " '__len__',\n",
       " '__lt__',\n",
       " '__mod__',\n",
       " '__mul__',\n",
       " '__ne__',\n",
       " '__new__',\n",
       " '__reduce__',\n",
       " '__reduce_ex__',\n",
       " '__repr__',\n",
       " '__rmod__',\n",
       " '__rmul__',\n",
       " '__setattr__',\n",
       " '__sizeof__',\n",
       " '__str__',\n",
       " '__subclasshook__',\n",
       " 'capitalize',\n",
       " 'casefold',\n",
       " 'center',\n",
       " 'count',\n",
       " 'encode',\n",
       " 'endswith',\n",
       " 'expandtabs',\n",
       " 'find',\n",
       " 'format',\n",
       " 'format_map',\n",
       " 'index',\n",
       " 'isalnum',\n",
       " 'isalpha',\n",
       " 'isascii',\n",
       " 'isdecimal',\n",
       " 'isdigit',\n",
       " 'isidentifier',\n",
       " 'islower',\n",
       " 'isnumeric',\n",
       " 'isprintable',\n",
       " 'isspace',\n",
       " 'istitle',\n",
       " 'isupper',\n",
       " 'join',\n",
       " 'ljust',\n",
       " 'lower',\n",
       " 'lstrip',\n",
       " 'maketrans',\n",
       " 'partition',\n",
       " 'replace',\n",
       " 'rfind',\n",
       " 'rindex',\n",
       " 'rjust',\n",
       " 'rpartition',\n",
       " 'rsplit',\n",
       " 'rstrip',\n",
       " 'split',\n",
       " 'splitlines',\n",
       " 'startswith',\n",
       " 'strip',\n",
       " 'swapcase',\n",
       " 'title',\n",
       " 'translate',\n",
       " 'upper',\n",
       " 'zfill']"
      ]
     },
     "execution_count": 1,
     "metadata": {},
     "output_type": "execute_result"
    }
   ],
   "source": [
    "dir(\" \")"
   ]
  },
  {
   "cell_type": "code",
   "execution_count": 13,
   "id": "691e6b3a",
   "metadata": {},
   "outputs": [
    {
     "name": "stdout",
     "output_type": "stream",
     "text": [
      "PythoN PRoGRammINg LanGUAge\n",
      "The upper case:  PYTHON PROGRAMMING LANGUAGE\n"
     ]
    }
   ],
   "source": [
    "# make uppercase\n",
    "message=\"PythoN PRoGRammINg LanGUAge\"\n",
    "print (message)\n",
    "print(\"The upper case: \",message.upper())"
   ]
  },
  {
   "cell_type": "code",
   "execution_count": 14,
   "id": "be0d6351",
   "metadata": {},
   "outputs": [
    {
     "name": "stdout",
     "output_type": "stream",
     "text": [
      "The lower case:  python programming language\n"
     ]
    }
   ],
   "source": [
    "# make lowercase\n",
    "print(\"The lower case: \", message.lower())"
   ]
  },
  {
   "cell_type": "code",
   "execution_count": 15,
   "id": "bdcfb17f",
   "metadata": {},
   "outputs": [],
   "source": [
    "# capitalize\n",
    "print(\"The capitalized case: \", message.)\n"
   ]
  },
  {
   "cell_type": "code",
   "execution_count": 16,
   "id": "39359e69",
   "metadata": {},
   "outputs": [
    {
     "name": "stdout",
     "output_type": "stream",
     "text": [
      "Title case:  Python Programming Language\n"
     ]
    }
   ],
   "source": [
    "# title\n",
    "print(\"Title case: \", message.title())"
   ]
  },
  {
   "cell_type": "code",
   "execution_count": 14,
   "id": "98ccee67",
   "metadata": {},
   "outputs": [],
   "source": [
    "# Concatination (welcome to...)\n",
    "message_new=message.lower()\n",
    "print(\"Welcome\")"
   ]
  },
  {
   "cell_type": "code",
   "execution_count": 18,
   "id": "c157d46f",
   "metadata": {},
   "outputs": [
    {
     "ename": "NameError",
     "evalue": "name 'message_new' is not defined",
     "output_type": "error",
     "traceback": [
      "\u001b[1;31m---------------------------------------------------------------------------\u001b[0m",
      "\u001b[1;31mNameError\u001b[0m                                 Traceback (most recent call last)",
      "Cell \u001b[1;32mIn[18], line 2\u001b[0m\n\u001b[0;32m      1\u001b[0m \u001b[38;5;66;03m# length\u001b[39;00m\n\u001b[1;32m----> 2\u001b[0m message_new\n\u001b[0;32m      3\u001b[0m \u001b[38;5;28mprint\u001b[39m(message_new)\n\u001b[0;32m      4\u001b[0m \u001b[38;5;28mlen\u001b[39m(message_new)\n",
      "\u001b[1;31mNameError\u001b[0m: name 'message_new' is not defined"
     ]
    }
   ],
   "source": [
    "# length\n",
    "message_new\n",
    "print(message_new)\n",
    "len(message_new)"
   ]
  },
  {
   "cell_type": "code",
   "execution_count": null,
   "id": "4579678b",
   "metadata": {},
   "outputs": [],
   "source": []
  },
  {
   "cell_type": "markdown",
   "id": "5be05c33",
   "metadata": {},
   "source": [
    "### Format the string using f-string\n",
    "`formatted string literals,` **f-strings** are string literals that have an f at the beginning and curly braces containing expressions that will be replaced with their values."
   ]
  },
  {
   "cell_type": "code",
   "execution_count": 20,
   "id": "8a1254b0",
   "metadata": {},
   "outputs": [],
   "source": [
    "name= \"Sam\"\n",
    "age=20"
   ]
  },
  {
   "cell_type": "code",
   "execution_count": 22,
   "id": "8f5c9124",
   "metadata": {},
   "outputs": [
    {
     "name": "stdout",
     "output_type": "stream",
     "text": [
      "The name is Sam\n"
     ]
    }
   ],
   "source": [
    "print(\"The name is \"+ name)"
   ]
  },
  {
   "cell_type": "code",
   "execution_count": 24,
   "id": "846ba0f1",
   "metadata": {},
   "outputs": [
    {
     "name": "stdout",
     "output_type": "stream",
     "text": [
      "The age is 20\n"
     ]
    }
   ],
   "source": [
    "#print(\"The age is \"+age)\n",
    "# Type error as we can not concatinate a string with a number/ integer\n",
    "print(\"The age is\",age)"
   ]
  },
  {
   "cell_type": "code",
   "execution_count": 25,
   "id": "45440db0",
   "metadata": {},
   "outputs": [
    {
     "name": "stdout",
     "output_type": "stream",
     "text": [
      "the name is Sam. The age is 20\n"
     ]
    }
   ],
   "source": [
    "print(f\"the name is {name}. The age is {age}\")"
   ]
  },
  {
   "cell_type": "code",
   "execution_count": 28,
   "id": "01062894",
   "metadata": {},
   "outputs": [
    {
     "name": "stdout",
     "output_type": "stream",
     "text": [
      "The first number is 45. The second number is 57\n",
      "the multiplication of the first 45 with the second number 57.\n"
     ]
    }
   ],
   "source": [
    "number1= 45\n",
    "number2= 57\n",
    "print(f\"The first number is {number1}. The second number is {number2}\")\n",
    "print(f\"the multiplication of the first {number1} with the second number {number2}.\")"
   ]
  },
  {
   "cell_type": "markdown",
   "id": "9bdf8bca",
   "metadata": {},
   "source": [
    "## Practice1:\n",
    "1. Personal Message: Store a person’s name in a variable, and print a message\n",
    "to that person. Your message should be simple, such as, “Hello Eric,\n",
    "would you like to learn some Python today?”\n",
    "2. Name Cases: Store a person’s name in a variable, and then print that person’s\n",
    "name in lowercase, uppercase, and titlecase."
   ]
  },
  {
   "cell_type": "code",
   "execution_count": 29,
   "id": "ac1df096",
   "metadata": {},
   "outputs": [
    {
     "name": "stdout",
     "output_type": "stream",
     "text": [
      "Hello Justin, how are you doing today?\n"
     ]
    }
   ],
   "source": [
    "name=\"Justin\"\n",
    "print(f\"Hello {name}, how are you doing today?\")"
   ]
  },
  {
   "cell_type": "code",
   "execution_count": 30,
   "id": "69ddf2f9",
   "metadata": {},
   "outputs": [
    {
     "name": "stdout",
     "output_type": "stream",
     "text": [
      "Hello JUSTIN, how are you doing today?\n"
     ]
    }
   ],
   "source": [
    "print(f\"Hello {name.upper()}, how are you doing today?\")"
   ]
  },
  {
   "cell_type": "code",
   "execution_count": 31,
   "id": "cec8c27b",
   "metadata": {},
   "outputs": [
    {
     "name": "stdout",
     "output_type": "stream",
     "text": [
      "Hello justin, how was class?\n"
     ]
    }
   ],
   "source": [
    "print(f\"Hello {name.lower()}, how was class?\")"
   ]
  },
  {
   "cell_type": "markdown",
   "id": "1f7191b0",
   "metadata": {},
   "source": [
    "## Adding Whitespace to Strings with Tabs or Newlines or  quotation\n",
    "* A backslash (`\\`) in a string is the **escape character**. \n",
    "* The backslash and the character immediately following it form an **escape sequence**. \n",
    "\n",
    "#### 2.4.2 Other Escape Sequences\n",
    "| Escape sequence | Description\n",
    "| :------- | :------------\n",
    "| `\\n` | Insert a newline character in a string. When the string is displayed, for each newline, move the screen cursor to the beginning of the next line. \n",
    "| `\\t` | Insert a horizontal tab. When the string is displayed, for each tab, move the screen cursor to the next tab stop. \n",
    "| `\\\\` | Insert a backslash character in a string.\n",
    "| `\\\"` | Insert a double quote character in a string.\n",
    "| `\\'` | Insert a single quote character in a string."
   ]
  },
  {
   "cell_type": "code",
   "execution_count": 32,
   "id": "ed57b62f",
   "metadata": {},
   "outputs": [
    {
     "name": "stdout",
     "output_type": "stream",
     "text": [
      "Insert a newline character in a string.\n"
     ]
    }
   ],
   "source": [
    "print(\"Insert a newline character in a string.\")"
   ]
  },
  {
   "cell_type": "code",
   "execution_count": 33,
   "id": "161cc541",
   "metadata": {},
   "outputs": [
    {
     "name": "stdout",
     "output_type": "stream",
     "text": [
      "Insert \n",
      "a \n",
      "newline \n",
      "character \n",
      "in \n",
      "a \n",
      "string.\n"
     ]
    }
   ],
   "source": [
    "print(\"Insert \\na \\nnewline \\ncharacter \\nin \\na \\nstring.\")"
   ]
  },
  {
   "cell_type": "code",
   "execution_count": 34,
   "id": "0f6f4862",
   "metadata": {},
   "outputs": [
    {
     "name": "stdout",
     "output_type": "stream",
     "text": [
      "Insert \ta \tnewline \tcharacter \tin \ta \tstring.\n"
     ]
    }
   ],
   "source": [
    "print(\"Insert \\ta \\tnewline \\tcharacter \\tin \\ta \\tstring.\")"
   ]
  },
  {
   "cell_type": "code",
   "execution_count": 35,
   "id": "13159314",
   "metadata": {},
   "outputs": [
    {
     "name": "stdout",
     "output_type": "stream",
     "text": [
      "The student's name is: Eric\n"
     ]
    }
   ],
   "source": [
    "print(\"The student's name is: Eric\")"
   ]
  },
  {
   "cell_type": "code",
   "execution_count": 36,
   "id": "bd830981",
   "metadata": {},
   "outputs": [
    {
     "ename": "SyntaxError",
     "evalue": "invalid syntax. Perhaps you forgot a comma? (4192547086.py, line 1)",
     "output_type": "error",
     "traceback": [
      "\u001b[1;36m  Cell \u001b[1;32mIn[36], line 1\u001b[1;36m\u001b[0m\n\u001b[1;33m    print('the student's name is : Eric)\u001b[0m\n\u001b[1;37m          ^\u001b[0m\n\u001b[1;31mSyntaxError\u001b[0m\u001b[1;31m:\u001b[0m invalid syntax. Perhaps you forgot a comma?\n"
     ]
    }
   ],
   "source": [
    "print('the student's name is : Eric)\n"
   ]
  },
  {
   "cell_type": "code",
   "execution_count": 38,
   "id": "5057a6ea",
   "metadata": {},
   "outputs": [
    {
     "name": "stdout",
     "output_type": "stream",
     "text": [
      "the student's name is : Eric\n"
     ]
    }
   ],
   "source": [
    "print('the student\\'s name is : Eric')"
   ]
  },
  {
   "cell_type": "markdown",
   "id": "59e57742",
   "metadata": {},
   "source": [
    "## Useful methods for split a string"
   ]
  },
  {
   "cell_type": "code",
   "execution_count": 39,
   "id": "972a849e",
   "metadata": {},
   "outputs": [
    {
     "data": {
      "text/plain": [
       "['In',\n",
       " 'Out',\n",
       " '_',\n",
       " '__',\n",
       " '___',\n",
       " '__builtin__',\n",
       " '__builtins__',\n",
       " '__doc__',\n",
       " '__loader__',\n",
       " '__name__',\n",
       " '__package__',\n",
       " '__spec__',\n",
       " '_dh',\n",
       " '_i',\n",
       " '_i1',\n",
       " '_i10',\n",
       " '_i11',\n",
       " '_i12',\n",
       " '_i13',\n",
       " '_i14',\n",
       " '_i15',\n",
       " '_i16',\n",
       " '_i17',\n",
       " '_i18',\n",
       " '_i19',\n",
       " '_i2',\n",
       " '_i20',\n",
       " '_i21',\n",
       " '_i22',\n",
       " '_i23',\n",
       " '_i24',\n",
       " '_i25',\n",
       " '_i26',\n",
       " '_i27',\n",
       " '_i28',\n",
       " '_i29',\n",
       " '_i3',\n",
       " '_i30',\n",
       " '_i31',\n",
       " '_i32',\n",
       " '_i33',\n",
       " '_i34',\n",
       " '_i35',\n",
       " '_i36',\n",
       " '_i37',\n",
       " '_i38',\n",
       " '_i39',\n",
       " '_i4',\n",
       " '_i5',\n",
       " '_i6',\n",
       " '_i7',\n",
       " '_i8',\n",
       " '_i9',\n",
       " '_ih',\n",
       " '_ii',\n",
       " '_iii',\n",
       " '_oh',\n",
       " '_x0',\n",
       " 'age',\n",
       " 'exit',\n",
       " 'get_ipython',\n",
       " 'message',\n",
       " 'name',\n",
       " 'number1',\n",
       " 'number2',\n",
       " 'open',\n",
       " 'quit',\n",
       " 'x_0']"
      ]
     },
     "execution_count": 39,
     "metadata": {},
     "output_type": "execute_result"
    }
   ],
   "source": [
    "dir()"
   ]
  },
  {
   "cell_type": "code",
   "execution_count": 40,
   "id": "a30d3f33",
   "metadata": {},
   "outputs": [
    {
     "name": "stdout",
     "output_type": "stream",
     "text": [
      "PythoN PRoGRammINg LanGUAge\n"
     ]
    },
    {
     "data": {
      "text/plain": [
       "['PythoN', 'PRoGRammINg', 'LanGUAge']"
      ]
     },
     "execution_count": 40,
     "metadata": {},
     "output_type": "execute_result"
    }
   ],
   "source": [
    "print(message)\n",
    "message.split(sep= \" \")\n",
    "#convert a string into a list"
   ]
  },
  {
   "cell_type": "code",
   "execution_count": 41,
   "id": "64d6d026",
   "metadata": {},
   "outputs": [
    {
     "data": {
      "text/plain": [
       "['', 'ythoN ', 'RoGRammINg LanGUAge']"
      ]
     },
     "execution_count": 41,
     "metadata": {},
     "output_type": "execute_result"
    }
   ],
   "source": [
    "#message.split(sep= \"P\")"
   ]
  },
  {
   "cell_type": "markdown",
   "id": "767a741a",
   "metadata": {},
   "source": [
    "## Useful methods for strip a string\n",
    "- lstrip\n",
    "- rstrip\n",
    "- strip"
   ]
  },
  {
   "cell_type": "code",
   "execution_count": 43,
   "id": "a98d7290",
   "metadata": {},
   "outputs": [],
   "source": [
    "message1= \" Python Programming Language \""
   ]
  },
  {
   "cell_type": "code",
   "execution_count": 44,
   "id": "33fcdb4a",
   "metadata": {},
   "outputs": [
    {
     "data": {
      "text/plain": [
       "'Python Programming Language '"
      ]
     },
     "execution_count": 44,
     "metadata": {},
     "output_type": "execute_result"
    }
   ],
   "source": [
    "message1.lstrip()"
   ]
  },
  {
   "cell_type": "code",
   "execution_count": 45,
   "id": "878aea11",
   "metadata": {},
   "outputs": [
    {
     "data": {
      "text/plain": [
       "' Python Programming Language'"
      ]
     },
     "execution_count": 45,
     "metadata": {},
     "output_type": "execute_result"
    }
   ],
   "source": [
    "message1.rstrip()"
   ]
  },
  {
   "cell_type": "code",
   "execution_count": 46,
   "id": "172ecf84",
   "metadata": {},
   "outputs": [
    {
     "data": {
      "text/plain": [
       "'Python Programming Language'"
      ]
     },
     "execution_count": 46,
     "metadata": {},
     "output_type": "execute_result"
    }
   ],
   "source": [
    "message1.strip()"
   ]
  },
  {
   "cell_type": "markdown",
   "id": "59666fd1",
   "metadata": {},
   "source": [
    "## Practice2\n",
    "1. Stripping Names: Store a person’s name, and include some whitespace characters at the beginning and end of the name. Make sure you use each character combination, \"\\t\" and \"\\n\", at least once.\n",
    "Print the name once, so the whitespace around the name is displayed.\n",
    "Then print the name using each of the three stripping functions, lstrip(),\n",
    "rstrip(), and strip()."
   ]
  },
  {
   "cell_type": "code",
   "execution_count": 42,
   "id": "a0fa9df3",
   "metadata": {},
   "outputs": [
    {
     "name": "stdout",
     "output_type": "stream",
     "text": [
      "\n",
      "J\tustin \tHarl\n",
      "ow\n"
     ]
    }
   ],
   "source": [
    "name= \"Justin Harlow\"\n",
    "print(\"\\nJ\\tustin \\tHarl\\now\")"
   ]
  },
  {
   "cell_type": "code",
   "execution_count": null,
   "id": "26377f7e",
   "metadata": {},
   "outputs": [],
   "source": []
  },
  {
   "cell_type": "code",
   "execution_count": null,
   "id": "b86dc1a6",
   "metadata": {},
   "outputs": [],
   "source": []
  },
  {
   "cell_type": "markdown",
   "id": "7cb5c2e0",
   "metadata": {},
   "source": [
    "#### Replacing words or characters of a string"
   ]
  },
  {
   "cell_type": "code",
   "execution_count": null,
   "id": "22032818",
   "metadata": {},
   "outputs": [],
   "source": []
  },
  {
   "cell_type": "code",
   "execution_count": null,
   "id": "1631042e",
   "metadata": {},
   "outputs": [],
   "source": []
  },
  {
   "cell_type": "code",
   "execution_count": null,
   "id": "5b3de060",
   "metadata": {},
   "outputs": [],
   "source": []
  },
  {
   "cell_type": "markdown",
   "id": "7a2ff52e",
   "metadata": {},
   "source": [
    "# Number"
   ]
  },
  {
   "cell_type": "markdown",
   "id": "7ed88df4",
   "metadata": {},
   "source": [
    "# Data Types\n",
    "* `float` (floating point) - used for real numbers.\n",
    "* `int` (integer) - used for integers."
   ]
  },
  {
   "cell_type": "markdown",
   "id": "c37ef37a",
   "metadata": {},
   "source": [
    "## Arithmetic Operator\n",
    "| Python operation | Arithmetic operator | Python expression\n",
    "| :-------- | :-------- | :-------- \n",
    "| Addition | `+`  | `f + 7` \n",
    "| Subtraction | `–` | `p - c` \n",
    "| Multiplication | `*` | `b * m` \n",
    "| Exponentiation | `**` |  `x ** y` \n",
    "| True division | `/` | `x / y` \n",
    "| Floor division | `//` | `x // y` \n",
    "| Remainder (modulo) | `%` | `r % s` \n",
    "\n",
    "`Floor division` is an operation in Python that divides two numbers and rounds the result down to the nearest integer."
   ]
  },
  {
   "cell_type": "code",
   "execution_count": null,
   "id": "ddee7b60",
   "metadata": {},
   "outputs": [],
   "source": []
  },
  {
   "cell_type": "code",
   "execution_count": null,
   "id": "89065958",
   "metadata": {},
   "outputs": [],
   "source": []
  },
  {
   "cell_type": "code",
   "execution_count": null,
   "id": "0a916868",
   "metadata": {},
   "outputs": [],
   "source": []
  },
  {
   "cell_type": "markdown",
   "id": "290d4afb",
   "metadata": {},
   "source": [
    "## Avoiding Type Errors with the str() Function"
   ]
  },
  {
   "cell_type": "code",
   "execution_count": null,
   "id": "d853bd0b",
   "metadata": {},
   "outputs": [],
   "source": []
  },
  {
   "cell_type": "code",
   "execution_count": null,
   "id": "9da718ed",
   "metadata": {},
   "outputs": [],
   "source": []
  },
  {
   "cell_type": "code",
   "execution_count": null,
   "id": "d3d77d88",
   "metadata": {},
   "outputs": [],
   "source": []
  },
  {
   "cell_type": "code",
   "execution_count": null,
   "id": "5936f26c",
   "metadata": {},
   "outputs": [],
   "source": []
  },
  {
   "cell_type": "markdown",
   "id": "165bd5f8",
   "metadata": {},
   "source": [
    "## Practice3 \n",
    "1. Write addition, subtraction, multiplication, and division\n",
    "operations that each result in the number 91. Be sure to enclose your operations\n",
    "in print statements to see the results. You should create four lines that look\n",
    "like this:\n",
    "print(53 + 38)\n",
    "Your output should simply be four lines with the number 91 appearing once\n",
    "on each line.\n",
    "2. Favorite Number: Store your favorite number in a variable. Then, using\n",
    "that variable, create a message that reveals your favorite number. Print that\n",
    "message."
   ]
  },
  {
   "cell_type": "code",
   "execution_count": null,
   "id": "0deea5b4",
   "metadata": {},
   "outputs": [],
   "source": []
  },
  {
   "cell_type": "code",
   "execution_count": null,
   "id": "3abdb7ed",
   "metadata": {},
   "outputs": [],
   "source": []
  },
  {
   "cell_type": "code",
   "execution_count": null,
   "id": "64f1ae69",
   "metadata": {},
   "outputs": [],
   "source": []
  },
  {
   "cell_type": "markdown",
   "id": "e05b5c26",
   "metadata": {},
   "source": [
    "## Getting Input from the User\n",
    "* Built-in **`input` function** requests and obtains user input."
   ]
  },
  {
   "cell_type": "code",
   "execution_count": null,
   "id": "4fec3462",
   "metadata": {},
   "outputs": [],
   "source": []
  },
  {
   "cell_type": "code",
   "execution_count": null,
   "id": "d5a698c2",
   "metadata": {},
   "outputs": [],
   "source": []
  },
  {
   "cell_type": "code",
   "execution_count": null,
   "id": "93f54fc5",
   "metadata": {},
   "outputs": [],
   "source": []
  },
  {
   "cell_type": "markdown",
   "id": "476c6426",
   "metadata": {},
   "source": [
    "## Getting an Integer/ Float from the User\n",
    "* If you need an integer, convert the string to an integer using the built-in **`int` / `float` function**. "
   ]
  },
  {
   "cell_type": "code",
   "execution_count": null,
   "id": "1905f791",
   "metadata": {},
   "outputs": [],
   "source": []
  },
  {
   "cell_type": "code",
   "execution_count": null,
   "id": "a8b6814e",
   "metadata": {},
   "outputs": [],
   "source": []
  },
  {
   "cell_type": "markdown",
   "id": "6ff42bfa",
   "metadata": {},
   "source": [
    "## Checking the data type using `type` function"
   ]
  },
  {
   "cell_type": "code",
   "execution_count": null,
   "id": "e1b73434",
   "metadata": {},
   "outputs": [],
   "source": []
  },
  {
   "cell_type": "code",
   "execution_count": null,
   "id": "5c848906",
   "metadata": {},
   "outputs": [],
   "source": []
  },
  {
   "cell_type": "markdown",
   "id": "fc6e7e28",
   "metadata": {},
   "source": [
    "## Errors in Python\n",
    "When an error occurs in your program, the Python interpreter does its\n",
    "best to help you figure out where the problem is. The interpreter provides\n",
    "a traceback when a program cannot run successfully. A traceback is a record\n",
    "of where the interpreter ran into trouble when trying to execute your code.\n",
    "Errors can be classified into three major groups:\n",
    "- Syntax errors\n",
    "- Runtime errors\n",
    "- Logical errors"
   ]
  },
  {
   "cell_type": "markdown",
   "id": "7fe3220f",
   "metadata": {},
   "source": [
    "### Syntax error.\n",
    "- Python will find these kinds of errors when it tries to parse your program, and exit with an error message without running anything. \n",
    "- Syntax errors are mistakes in the use of the Python language, and are analogous to spelling or grammar mistakes in a language like English: for example, the sentence Would you some tea? does not make sense – it is missing a verb.\n"
   ]
  },
  {
   "cell_type": "markdown",
   "id": "88840cff",
   "metadata": {},
   "source": [
    "### Example:\n",
    "- leaving out a keyword\n",
    "- putting a keyword in the wrong place\n",
    "- leaving out a symbol, such as a colon, comma or brackets\n",
    "- misspelling a keyword\n",
    "- incorrect indentation\n",
    "- empty block"
   ]
  },
  {
   "cell_type": "code",
   "execution_count": null,
   "id": "1b4b64c3",
   "metadata": {},
   "outputs": [],
   "source": []
  },
  {
   "cell_type": "code",
   "execution_count": null,
   "id": "92353ef9",
   "metadata": {},
   "outputs": [],
   "source": []
  },
  {
   "cell_type": "code",
   "execution_count": null,
   "id": "c241756e",
   "metadata": {},
   "outputs": [],
   "source": []
  },
  {
   "cell_type": "markdown",
   "id": "f10a50b1",
   "metadata": {},
   "source": [
    "## Runtime error\n",
    "- A program with a runtime error is one that passed the interpreter’s syntax checks, and started to execute. \n",
    "- However, during the execution of one of the statements in the program, an error occurred that caused the interpreter to stop executing the program and display an error message. \n",
    "- Runtime errors are also called `exceptions` because they usually indicate that something exceptional (and bad) has happened."
   ]
  },
  {
   "cell_type": "markdown",
   "id": "b5ce828a",
   "metadata": {},
   "source": [
    "### Examples: \n",
    "- division by zero.\n",
    "- performing an operation on incompatible types.\n",
    "- using an identifier which has not been defined.\n",
    "- accessing a list element, dictionary value or object attribute which doesn't exist.\n",
    "- trying to access a file which doesn't exist."
   ]
  },
  {
   "cell_type": "code",
   "execution_count": null,
   "id": "7176f581",
   "metadata": {},
   "outputs": [],
   "source": []
  },
  {
   "cell_type": "code",
   "execution_count": null,
   "id": "15f63562",
   "metadata": {},
   "outputs": [],
   "source": []
  },
  {
   "cell_type": "code",
   "execution_count": null,
   "id": "d1402fc5",
   "metadata": {},
   "outputs": [],
   "source": []
  },
  {
   "cell_type": "code",
   "execution_count": null,
   "id": "7b172df3",
   "metadata": {},
   "outputs": [],
   "source": []
  },
  {
   "cell_type": "markdown",
   "id": "6dec365d",
   "metadata": {},
   "source": [
    "### Logical error\n",
    "- Logical errors are the most difficult to fix. They occur when the program runs without crashing, but produces an incorrect result. \n",
    "- The error is caused by a mistake in the program’s logic. \n",
    "- You won’t get an error message, because no syntax or runtime error has occurred. \n",
    "- You will have to find the problem on your own by reviewing all the relevant parts of your code "
   ]
  },
  {
   "cell_type": "code",
   "execution_count": null,
   "id": "49aba111",
   "metadata": {},
   "outputs": [],
   "source": []
  },
  {
   "cell_type": "code",
   "execution_count": null,
   "id": "d62a5c59",
   "metadata": {},
   "outputs": [],
   "source": []
  },
  {
   "cell_type": "code",
   "execution_count": null,
   "id": "16d4bda9",
   "metadata": {},
   "outputs": [],
   "source": []
  }
 ],
 "metadata": {
  "kernelspec": {
   "display_name": "Python 3 (ipykernel)",
   "language": "python",
   "name": "python3"
  },
  "language_info": {
   "codemirror_mode": {
    "name": "ipython",
    "version": 3
   },
   "file_extension": ".py",
   "mimetype": "text/x-python",
   "name": "python",
   "nbconvert_exporter": "python",
   "pygments_lexer": "ipython3",
   "version": "3.11.4"
  }
 },
 "nbformat": 4,
 "nbformat_minor": 5
}
